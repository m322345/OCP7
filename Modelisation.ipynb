{
 "cells": [
  {
   "cell_type": "code",
   "execution_count": 2,
   "id": "f54db001-9ea1-4334-9ab1-9be1e36caf2e",
   "metadata": {},
   "outputs": [],
   "source": [
    "# numpy and pandas for data manipulation\n",
    "import numpy as np\n",
    "import pandas as pd \n",
    "\n",
    "# sklearn preprocessing for dealing with categorical variables\n",
    "from sklearn.preprocessing import LabelEncoder\n",
    "\n",
    "# File system manangement\n",
    "import os\n",
    "\n",
    "# Suppress warnings\n",
    "import warnings\n",
    "warnings.filterwarnings('ignore')\n",
    "\n",
    "# matplotlib and seaborn for plotting\n",
    "import matplotlib.pyplot as plt\n",
    "import seaborn as sns\n",
    "\n",
    "import module as module"
   ]
  },
  {
   "cell_type": "code",
   "execution_count": 3,
   "id": "ff0d2c60-89ae-4ce3-8f6b-4656c8095846",
   "metadata": {},
   "outputs": [],
   "source": [
    "#fichier données\n",
    "data = './Data/Source/'\n",
    "app_train = pd.read_csv(data+'application_train.csv')\n",
    "app_test = pd.read_csv(data+'application_test.csv')"
   ]
  },
  {
   "cell_type": "code",
   "execution_count": 4,
   "id": "5e98e43d-df4d-40a8-9416-f5b8cf88081d",
   "metadata": {},
   "outputs": [
    {
     "name": "stdout",
     "output_type": "stream",
     "text": [
      "Ratio des valeurs cibles\n",
      "valeurs positives 8.1% (24825)\n",
      "valeurs négatives 91.9% (282686)\n"
     ]
    }
   ],
   "source": [
    "module.repartitionCibles(app_train)"
   ]
  },
  {
   "cell_type": "code",
   "execution_count": 132,
   "id": "65b627af-086d-4ff0-a625-24767204a74b",
   "metadata": {},
   "outputs": [
    {
     "name": "stdout",
     "output_type": "stream",
     "text": [
      "----------- Datas before traitments ----------\n",
      "Ratio des valeurs cibles\n",
      "valeurs positives 8.1% (24825)\n",
      "valeurs négatives 91.9% (282686)\n",
      "..............................................\n",
      "Training data shape:  (307511, 130)\n",
      "Testing data shape:  (48744, 129)\n",
      "----------- Datas after traitments -----------\n",
      "Ratio des valeurs cibles\n",
      "valeurs positives 8.1% (24825)\n",
      "valeurs négatives 91.9% (282686)\n",
      "..............................................\n",
      "Training data shape:  (307511, 260)\n",
      "Testing data shape:  (48744, 260)\n",
      "------------- Time of traitments -------------\n",
      "Time: 10.8s\n"
     ]
    }
   ],
   "source": [
    "X_train, X_test, labels, features = module.traitementDonnées(app_train, app_test, smote=False)"
   ]
  },
  {
   "cell_type": "code",
   "execution_count": 133,
   "id": "8ae16153-6074-4e6e-8d80-a8d034b313bf",
   "metadata": {},
   "outputs": [
    {
     "name": "stdout",
     "output_type": "stream",
     "text": [
      "----------- Datas before traitments ----------\n",
      "Ratio des valeurs cibles\n",
      "valeurs positives 8.1% (24825)\n",
      "valeurs négatives 91.9% (282686)\n",
      "..............................................\n",
      "Training data shape:  (307511, 130)\n",
      "Testing data shape:  (48744, 129)\n",
      "------------- application SMOTE --------------\n",
      "----------- Datas after traitments -----------\n",
      "Ratio des valeurs cibles\n",
      "valeurs positives 50.0% (282686)\n",
      "valeurs négatives 50.0% (282686)\n",
      "..............................................\n",
      "Training data shape:  (565372, 260)\n",
      "Testing data shape:  (48744, 260)\n",
      "------------- Time of traitments -------------\n",
      "Time: 14.2s\n"
     ]
    }
   ],
   "source": [
    "X_train, X_test, labels, features = module.traitementDonnées(app_train, app_test, smote=True)"
   ]
  },
  {
   "cell_type": "code",
   "execution_count": 142,
   "id": "6988578d-3389-430c-9052-452bb71e69e8",
   "metadata": {},
   "outputs": [
    {
     "name": "stderr",
     "output_type": "stream",
     "text": [
      "2024/12/31 19:29:09 INFO mlflow.tracking.fluent: Autologging successfully enabled for sklearn.\n",
      "2024/12/31 19:29:09 INFO mlflow.tracking.fluent: Autologging successfully enabled for statsmodels.\n",
      "2024/12/31 19:29:10 WARNING mlflow.sklearn: Failed to log training dataset information to MLflow Tracking. Reason: 'Series' object has no attribute 'flatten'\n"
     ]
    }
   ],
   "source": [
    "from sklearn.linear_model import LogisticRegression\n",
    "import mlflow\n",
    "mlflow.set_tracking_uri(uri=\"http://10.0.50.72:5000\")\n",
    "mlflow.set_experiment(experiment_id=\"922754860405524204\")\n",
    "mlflow.set_tag('mlflow.runName', 'LogisticRegression')\n",
    "mlflow.autolog()\n",
    "\n",
    "# Make the model with the specified regularization parameter\n",
    "log_reg = LogisticRegression(C = 0.0001)\n",
    "\n",
    "# Train on the training data\n",
    "log_reg.fit(X_train, labels)\n",
    "log_reg_train = log_reg.predict_proba(X_train)[:, 1]"
   ]
  },
  {
   "cell_type": "code",
   "execution_count": 149,
   "id": "c4e6d072-6eb5-49fb-8a93-b3f62b9531a9",
   "metadata": {},
   "outputs": [],
   "source": [
    "log_reg_pred = log_reg.predict_proba(X_test)[:, 1]"
   ]
  },
  {
   "cell_type": "code",
   "execution_count": null,
   "id": "2a39d7b1-ee47-4bd6-85df-06e0e3db55bb",
   "metadata": {},
   "outputs": [],
   "source": []
  },
  {
   "cell_type": "code",
   "execution_count": 130,
   "id": "9ccd7833-2b15-4bb8-b8d4-c31a3691ca82",
   "metadata": {},
   "outputs": [
    {
     "data": {
      "text/plain": [
       "<module 'module' from 'Z:\\\\P7\\\\module.py'>"
      ]
     },
     "execution_count": 130,
     "metadata": {},
     "output_type": "execute_result"
    }
   ],
   "source": [
    "import importlib \n",
    "importlib.reload(module)\n"
   ]
  },
  {
   "cell_type": "code",
   "execution_count": null,
   "id": "a64d624d-3165-40d9-90a0-90111f08339b",
   "metadata": {},
   "outputs": [],
   "source": [
    "mlflow.set_tag('mlflow.runName', 'new-run-name')"
   ]
  }
 ],
 "metadata": {
  "kernelspec": {
   "display_name": "Python 3 (ipykernel)",
   "language": "python",
   "name": "python3"
  },
  "language_info": {
   "codemirror_mode": {
    "name": "ipython",
    "version": 3
   },
   "file_extension": ".py",
   "mimetype": "text/x-python",
   "name": "python",
   "nbconvert_exporter": "python",
   "pygments_lexer": "ipython3",
   "version": "3.9.18"
  }
 },
 "nbformat": 4,
 "nbformat_minor": 5
}
