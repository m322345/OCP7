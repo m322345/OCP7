{
 "cells": [
  {
   "cell_type": "code",
   "execution_count": 2,
   "id": "f54db001-9ea1-4334-9ab1-9be1e36caf2e",
   "metadata": {},
   "outputs": [],
   "source": [
    "# numpy and pandas for data manipulation\n",
    "import numpy as np\n",
    "import pandas as pd \n",
    "\n",
    "# sklearn preprocessing for dealing with categorical variables\n",
    "from sklearn.preprocessing import LabelEncoder\n",
    "\n",
    "# File system manangement\n",
    "import os\n",
    "\n",
    "# Suppress warnings\n",
    "import warnings\n",
    "warnings.filterwarnings('ignore')\n",
    "\n",
    "# matplotlib and seaborn for plotting\n",
    "import matplotlib.pyplot as plt\n",
    "import seaborn as sns\n",
    "\n",
    "import module as module"
   ]
  },
  {
   "cell_type": "code",
   "execution_count": 3,
   "id": "ff0d2c60-89ae-4ce3-8f6b-4656c8095846",
   "metadata": {},
   "outputs": [],
   "source": [
    "#fichier données\n",
    "data = './Data/Source/'\n",
    "app_train = pd.read_csv(data+'application_train.csv')\n",
    "app_test = pd.read_csv(data+'application_test.csv')"
   ]
  },
  {
   "cell_type": "code",
   "execution_count": 4,
   "id": "5e98e43d-df4d-40a8-9416-f5b8cf88081d",
   "metadata": {},
   "outputs": [
    {
     "name": "stdout",
     "output_type": "stream",
     "text": [
      "Ratio des valeurs cibles\n",
      "valeurs positives 8.1% (24825)\n",
      "valeurs négatives 91.9% (282686)\n"
     ]
    }
   ],
   "source": [
    "module.repartitionCibles(app_train)"
   ]
  },
  {
   "cell_type": "code",
   "execution_count": 132,
   "id": "65b627af-086d-4ff0-a625-24767204a74b",
   "metadata": {},
   "outputs": [
    {
     "name": "stdout",
     "output_type": "stream",
     "text": [
      "----------- Datas before traitments ----------\n",
      "Ratio des valeurs cibles\n",
      "valeurs positives 8.1% (24825)\n",
      "valeurs négatives 91.9% (282686)\n",
      "..............................................\n",
      "Training data shape:  (307511, 130)\n",
      "Testing data shape:  (48744, 129)\n",
      "----------- Datas after traitments -----------\n",
      "Ratio des valeurs cibles\n",
      "valeurs positives 8.1% (24825)\n",
      "valeurs négatives 91.9% (282686)\n",
      "..............................................\n",
      "Training data shape:  (307511, 260)\n",
      "Testing data shape:  (48744, 260)\n",
      "------------- Time of traitments -------------\n",
      "Time: 10.8s\n"
     ]
    }
   ],
   "source": [
    "X_train, X_test, labels, features = module.traitementDonnées(app_train, app_test, smote=False)"
   ]
  },
  {
   "cell_type": "code",
   "execution_count": 208,
   "id": "8ae16153-6074-4e6e-8d80-a8d034b313bf",
   "metadata": {},
   "outputs": [
    {
     "name": "stdout",
     "output_type": "stream",
     "text": [
      "----------- Datas before traitments ----------\n",
      "Ratio des valeurs cibles\n",
      "valeurs positives 8.1% (24825)\n",
      "valeurs négatives 91.9% (282686)\n",
      "..............................................\n",
      "Training data shape:  (307511, 130)\n",
      "Testing data shape:  (48744, 129)\n",
      "------------- application SMOTE --------------\n"
     ]
    },
    {
     "name": "stderr",
     "output_type": "stream",
     "text": [
      "2025/01/02 19:25:31 WARNING mlflow.sklearn: Training metrics will not be recorded because training labels were not specified. To automatically record training metrics, provide training labels as inputs to the model training function.\n",
      "2025/01/02 19:25:31 WARNING mlflow.sklearn: Failed to infer model signature: the trained model does not have a `predict` or `transform` function, which is required in order to infer the signature\n",
      "2025/01/02 19:25:32 WARNING mlflow.sklearn: Model was missing function: predict. Not logging python_function flavor!\n",
      "2025/01/02 19:25:34 WARNING mlflow.models.model: Model logged without a signature and input example. Please set `input_example` parameter when logging the model to auto infer the model signature.\n"
     ]
    },
    {
     "name": "stdout",
     "output_type": "stream",
     "text": [
      "----------- Datas after traitments -----------\n",
      "Ratio des valeurs cibles\n",
      "valeurs positives 50.0% (282686)\n",
      "valeurs négatives 50.0% (282686)\n",
      "..............................................\n",
      "Training data shape:  (565372, 260)\n",
      "Testing data shape:  (48744, 260)\n",
      "------------- Time of traitments -------------\n",
      "Time: 20.0s\n"
     ]
    }
   ],
   "source": [
    "X_train, X_test, labels, features = module.traitementDonnées(app_train, app_test, smote=True)"
   ]
  },
  {
   "cell_type": "code",
   "execution_count": 182,
   "id": "6988578d-3389-430c-9052-452bb71e69e8",
   "metadata": {},
   "outputs": [
    {
     "name": "stderr",
     "output_type": "stream",
     "text": [
      "2025/01/02 18:36:50 INFO mlflow.tracking.fluent: Autologging successfully enabled for sklearn.\n",
      "2025/01/02 18:36:50 INFO mlflow.tracking.fluent: Autologging successfully enabled for statsmodels.\n",
      "2025/01/02 18:36:51 WARNING mlflow.sklearn: Failed to log training dataset information to MLflow Tracking. Reason: 'Series' object has no attribute 'flatten'\n"
     ]
    }
   ],
   "source": [
    "from sklearn.linear_model import LogisticRegression\n",
    "import mlflow\n",
    "from mlflow.models import infer_signature\n",
    "from sklearn.metrics import mean_squared_error\n",
    "\n",
    "mlflow.set_tracking_uri(uri=\"http://10.0.50.72:5000\")\n",
    "mlflow.set_experiment(experiment_id=\"922754860405524204\")\n",
    "mlflow.set_tag('mlflow.runName', 'LogisticRegression')\n",
    "mlflow.autolog()\n",
    "\n",
    "# Make the model with the specified regularization parameter\n",
    "log_reg = LogisticRegression(C = 0.0001)\n",
    "\n",
    "# Train on the training data\n",
    "log_reg.fit(X_train, labels)\n",
    "log_reg_train = log_reg.predict_proba(X_train)[:, 1]"
   ]
  },
  {
   "cell_type": "code",
   "execution_count": 184,
   "id": "c4e6d072-6eb5-49fb-8a93-b3f62b9531a9",
   "metadata": {},
   "outputs": [],
   "source": [
    "log_reg_pred = log_reg.predict_proba(X_test)[:, 1]"
   ]
  },
  {
   "cell_type": "code",
   "execution_count": 188,
   "id": "2a39d7b1-ee47-4bd6-85df-06e0e3db55bb",
   "metadata": {},
   "outputs": [
    {
     "data": {
      "text/plain": [
       "<mlflow.models.model.ModelInfo at 0x173c04f3280>"
      ]
     },
     "execution_count": 188,
     "metadata": {},
     "output_type": "execute_result"
    }
   ],
   "source": [
    "# Infer the model signature\n",
    "y_pred = log_reg.predict(X_train)\n",
    "signature = mlflow.models.infer_signature(X_train, labels)\n",
    "\n",
    "# Log parameters and metrics using the MLflow APIs\n",
    "#mlflow.log_params(params)\n",
    "mlflow.log_metrics({\"mse\": mean_squared_error(labels, y_pred)})\n",
    "\n",
    "# Log the sklearn model and register as version 1\n",
    "mlflow.sklearn.log_model(\n",
    "    sk_model=log_reg,\n",
    "    artifact_path=\"sklearn-model\",\n",
    "    signature=signature,\n",
    ")"
   ]
  },
  {
   "cell_type": "code",
   "execution_count": 225,
   "id": "9ccd7833-2b15-4bb8-b8d4-c31a3691ca82",
   "metadata": {},
   "outputs": [
    {
     "data": {
      "text/plain": [
       "<module 'module' from 'Z:\\\\P7\\\\module.py'>"
      ]
     },
     "execution_count": 225,
     "metadata": {},
     "output_type": "execute_result"
    }
   ],
   "source": [
    "import importlib \n",
    "importlib.reload(module)\n"
   ]
  },
  {
   "cell_type": "code",
   "execution_count": null,
   "id": "57499510-025a-4c32-8871-9ffa02ea2ddf",
   "metadata": {},
   "outputs": [],
   "source": []
  }
 ],
 "metadata": {
  "kernelspec": {
   "display_name": "Python 3 (ipykernel)",
   "language": "python",
   "name": "python3"
  },
  "language_info": {
   "codemirror_mode": {
    "name": "ipython",
    "version": 3
   },
   "file_extension": ".py",
   "mimetype": "text/x-python",
   "name": "python",
   "nbconvert_exporter": "python",
   "pygments_lexer": "ipython3",
   "version": "3.9.18"
  }
 },
 "nbformat": 4,
 "nbformat_minor": 5
}
